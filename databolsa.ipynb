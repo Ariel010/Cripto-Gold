{
 "cells": [
  {
   "cell_type": "code",
   "execution_count": null,
   "metadata": {},
   "outputs": [],
   "source": [
    "import yfinance as yf\n",
    "import pandas as pd\n",
    "import json, requests, csv\n",
    "\n",
    "def sp500():\n",
    "    sp500df= yf.Ticker(\"^GSPC\").history(period=\"1y\")   \n",
    "    print(sp500df)\n",
    "    sp500df.to_csv(\"sp500.csv\")\n",
    "    print(\"SP500 csv extraction Finished :)\")\n",
    "\n",
    "def golddata():\n",
    "    golddata= yf.Ticker(\"GC=F\").history(period=\"1y\")   \n",
    "    print(golddata)\n",
    "    golddata.to_csv(\"gold.csv\")\n",
    "    print(\"Gold csv extraction Finished :)\")\n",
    "\n",
    "sp500()\n",
    "golddata()\n",
    "\n",
    "gold = json.loads(requests.get(\"https://forex-data-feed.swissquote.com/public-quotes/bboquotes/instrument/XAU/USD\").text)\n",
    "data = gold[0]\n",
    "dataextract = data[\"spreadProfilePrices\"]\n",
    "dataextract = dataextract[0][\"ask\"]\n",
    "print(\"Data:\")\n",
    "print(dataextract)\n",
    "f = open ('goldrealtime.csv','w')\n",
    "f.write(str(dataextract))\n",
    "f.close()\n",
    "print(\"Gold real time csv extraction Finished :)\")\n"
   ]
  }
 ],
 "metadata": {
  "kernelspec": {
   "display_name": "Python 3",
   "language": "python",
   "name": "python3"
  },
  "language_info": {
   "codemirror_mode": {
    "name": "ipython",
    "version": 3
   },
   "file_extension": ".py",
   "mimetype": "text/x-python",
   "name": "python",
   "nbconvert_exporter": "python",
   "pygments_lexer": "ipython3",
   "version": "3.11.3"
  },
  "orig_nbformat": 4
 },
 "nbformat": 4,
 "nbformat_minor": 2
}
