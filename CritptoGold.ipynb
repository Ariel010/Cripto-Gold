{
 "cells": [
  {
   "cell_type": "code",
   "execution_count": null,
   "metadata": {},
   "outputs": [],
   "source": [
    "import yfinance as yf\n",
    "import pandas as pd\n",
    "import mplfinance as mplf\n",
    "\n",
    "def BTC():\n",
    "    BTCdf= yf.Ticker('BTC-USD').history(period='1y')   \n",
    "    print(BTCdf)\n",
    "    BTCdf.to_csv('BTC.csv')\n",
    "    \n",
    "def ETH():\n",
    "    ETHdf= yf.Ticker('ETH-USD').history(period='1y')   \n",
    "    print(ETHdf)\n",
    "    ETHdf.to_csv('ETH.csv')\n",
    "    \n",
    "def Gold():\n",
    "    golddf= yf.Ticker('GC=F').history(period='1y')   \n",
    "    print(golddf)\n",
    "    golddf.to_csv('Gold.csv')\n",
    "    \n",
    "def IBEX35():\n",
    "    ibex35df= yf.Ticker('^IBEX').history(period='1y')   \n",
    "    print(ibex35df)\n",
    "    ibex35df.to_csv('IBEX35.csv')\n",
    "   \n",
    "def SP500():\n",
    "    sp500df= yf.Ticker('^GSPC').history(period='1y')   \n",
    "    print(sp500df)\n",
    "    sp500df.to_csv('SP500.csv')\n",
    "    \n",
    "BTC()\n",
    "Gold()\n",
    "ETH()\n",
    "SP500()\n",
    "IBEX35()\n"
   ]
  }
 ],
 "metadata": {
  "kernelspec": {
   "display_name": "Python 3",
   "language": "python",
   "name": "python3"
  },
  "language_info": {
   "codemirror_mode": {
    "name": "ipython",
    "version": 3
   },
   "file_extension": ".py",
   "mimetype": "text/x-python",
   "name": "python",
   "nbconvert_exporter": "python",
   "pygments_lexer": "ipython3",
   "version": "3.11.3"
  },
  "orig_nbformat": 4
 },
 "nbformat": 4,
 "nbformat_minor": 2
}
