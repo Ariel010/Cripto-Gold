{
 "cells": [
  {
   "cell_type": "code",
   "execution_count": 1,
   "metadata": {},
   "outputs": [],
   "source": [
    "import yfinance as yf\n",
    "import pandas as pd\n",
    "import mplfinance as mplf\n",
    "import matplotlib.pyplot as plt"
   ]
  },
  {
   "cell_type": "code",
   "execution_count": 2,
   "metadata": {},
   "outputs": [],
   "source": [
    "# Obtener datos de los rendimientos del bono del Tesoro a 1 años (ticker TNX)\n",
    "def TNX():\n",
    "    treasury_dat= yf.Ticker('^TNX').history(period='1y')   \n",
    "    #print(treasury_dat)\n",
    "    treasury_dat.to_csv('treasury_dat.csv')\n",
    "#CL=F PETROLEO WTI  \n",
    "def CLF():\n",
    "    CLFdf= yf.Ticker('CL=F').history(period='1y')   \n",
    "    #print(CLFdf)\n",
    "    CLFdf.to_csv('CLF.csv')\n",
    "# ÍNDICE DEL DOLAR\n",
    "def DXF():\n",
    "    DXFdf= yf.Ticker('DX=F').history(period='1y')   \n",
    "    #print(DXFdf)\n",
    "    DXFdf.to_csv('DXF.csv')\n",
    "#ETHERIUM\n",
    "def ETH():\n",
    "    ETHdf= yf.Ticker('ETH-USD').history(period='1y')   \n",
    "    #print(ETHdf)\n",
    "    ETHdf.to_csv('ETH.csv')\n",
    "#ORO  \n",
    "def Gold():\n",
    "    golddf= yf.Ticker('GC=F').history(period='1y')   \n",
    "    #print(golddf)\n",
    "    golddf.to_csv('Gold.csv')\n",
    "#IBEX35  \n",
    "def IBEX35():\n",
    "    ibex35df= yf.Ticker('^IBEX').history(period='1y')   \n",
    "    #print(ibex35df)\n",
    "    ibex35df.to_csv('IBEX35.csv')\n",
    "#SP500  \n",
    "def SP500():\n",
    "    sp500df= yf.Ticker('^GSPC').history(period='1y')   \n",
    "    #print(sp500df)\n",
    "    sp500df.to_csv('SP500.csv')\n",
    "#BITCOIN\n",
    "def BTC():\n",
    "    BTCdf= yf.Ticker('BTC-USD').history(period='1y')   \n",
    "    #print(BTCdf)\n",
    "    BTCdf.to_csv('BTC.csv')\n",
    "    \n"
   ]
  },
  {
   "cell_type": "code",
   "execution_count": 3,
   "metadata": {},
   "outputs": [],
   "source": [
    "BTC()\n",
    "Gold()\n",
    "ETH()\n",
    "SP500()\n",
    "IBEX35()\n",
    "DXF()\n",
    "CLF()\n",
    "TNX()"
   ]
  }
 ],
 "metadata": {
  "kernelspec": {
   "display_name": "Python 3",
   "language": "python",
   "name": "python3"
  },
  "language_info": {
   "codemirror_mode": {
    "name": "ipython",
    "version": 3
   },
   "file_extension": ".py",
   "mimetype": "text/x-python",
   "name": "python",
   "nbconvert_exporter": "python",
   "pygments_lexer": "ipython3",
   "version": "3.11.3"
  },
  "orig_nbformat": 4
 },
 "nbformat": 4,
 "nbformat_minor": 2
}
