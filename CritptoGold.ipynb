{
 "cells": [
  {
   "cell_type": "code",
   "execution_count": null,
   "metadata": {},
   "outputs": [],
   "source": [
    "import yfinance as yf\n",
    "import pandas as pd\n",
    "import json, requests, csv\n",
    "import mplfinance as mplf\n",
    "\n",
    "def BTCUSD():\n",
    "    BTCUSDdf= yf.Ticker(\"BTC-USD\").history(period=\"1y\")   \n",
    "    print(BTCUSDdf)\n",
    "    BTCUSDdf.to_csv(\"BTCUSD.csv\")\n",
    "    print(\"BTCUSD csv extraction Finished :)\")\n",
    "\n",
    "def ETHUSD():\n",
    "    ETHUSDdf= yf.Ticker(\"ETH-USD\").history(period=\"1y\")   \n",
    "    print(ETHUSDdf)\n",
    "    ETHUSDdf.to_csv(\"ETH-USD.csv\")\n",
    "    print(\"ETHUSD csv extraction Finished :)\")\n",
    "\n",
    "def golddata():\n",
    "    golddata= yf.Ticker(\"GC=F\").history(period=\"1y\")   \n",
    "    print(golddata)\n",
    "    golddata.to_csv(\"gold.csv\")\n",
    "    print(\"Gold csv extraction Finished :)\")\n",
    "\n",
    "BTCUSD()\n",
    "golddata()\n",
    "ETHUSD()\n"
   ]
  }
 ],
 "metadata": {
  "kernelspec": {
   "display_name": "Python 3",
   "language": "python",
   "name": "python3"
  },
  "language_info": {
   "codemirror_mode": {
    "name": "ipython",
    "version": 3
   },
   "file_extension": ".py",
   "mimetype": "text/x-python",
   "name": "python",
   "nbconvert_exporter": "python",
   "pygments_lexer": "ipython3",
   "version": "3.11.3"
  },
  "orig_nbformat": 4
 },
 "nbformat": 4,
 "nbformat_minor": 2
}
